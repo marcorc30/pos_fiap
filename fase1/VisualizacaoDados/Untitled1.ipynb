{
 "cells": [
  {
   "cell_type": "code",
   "execution_count": null,
   "id": "0f4f8ed9",
   "metadata": {},
   "outputs": [],
   "source": [
    "# Funcao excel que identifica se há dados nulos\n",
    "\n",
    "df.isnull().sum()\n",
    "\n",
    "# axis = 0 => excluir a linha onde tem dados nulos\n",
    "# axis = 1 => excluir a coluna onde tem dados nulos\n",
    "\n",
    "df.dropna(axis=0, how='any')"
   ]
  }
 ],
 "metadata": {
  "kernelspec": {
   "display_name": "Python 3 (ipykernel)",
   "language": "python",
   "name": "python3"
  },
  "language_info": {
   "codemirror_mode": {
    "name": "ipython",
    "version": 3
   },
   "file_extension": ".py",
   "mimetype": "text/x-python",
   "name": "python",
   "nbconvert_exporter": "python",
   "pygments_lexer": "ipython3",
   "version": "3.9.13"
  }
 },
 "nbformat": 4,
 "nbformat_minor": 5
}
