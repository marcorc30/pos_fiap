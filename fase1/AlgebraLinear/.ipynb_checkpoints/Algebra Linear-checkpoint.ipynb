{
 "cells": [
  {
   "cell_type": "code",
   "execution_count": 1,
   "id": "77c3771f",
   "metadata": {},
   "outputs": [],
   "source": [
    "import numpy as np"
   ]
  },
  {
   "cell_type": "code",
   "execution_count": 13,
   "id": "2ee6ee74",
   "metadata": {},
   "outputs": [],
   "source": [
    "escalar = 5  # tensor/escalar (dimensão 0) --> escalar é um ponto, sem dimensão\n",
    "vetor = np.array([1,2,3,4,5]) # tensor/vetor (dimensão 1)\n",
    "matriz = np.array([[1,2],[2,3],[3,4],[4,5],[5,6]]) # tensor/matriz (dimensão 2)"
   ]
  },
  {
   "cell_type": "code",
   "execution_count": 14,
   "id": "eb950471",
   "metadata": {},
   "outputs": [
    {
     "name": "stdout",
     "output_type": "stream",
     "text": [
      "5\n",
      "\n",
      "[1 2 3 4 5]\n",
      "\n",
      "[[1 2]\n",
      " [2 3]\n",
      " [3 4]\n",
      " [4 5]\n",
      " [5 6]]\n"
     ]
    }
   ],
   "source": [
    "print(escalar)\n",
    "print()\n",
    "print(vetor)\n",
    "print()\n",
    "print(matriz)\n"
   ]
  },
  {
   "cell_type": "markdown",
   "id": "9c1d657d",
   "metadata": {},
   "source": [
    "# Operações com vetores e matriz\n",
    "\n",
    "* Escalar, vetor e matriz possui propriedades de soma, subtração, divisão e multiplicação. Só que cada um com um regra específica\n",
    "* Existe uma máxima que diz: Somar e subtrair só com coisas de mesma natureza!! Essa máxima serve para arrays?"
   ]
  },
  {
   "cell_type": "code",
   "execution_count": 47,
   "id": "819daad2",
   "metadata": {},
   "outputs": [],
   "source": [
    "# criando escalar, matriz e vetor para testes\n",
    "x = 2\n",
    "x1 = 3\n",
    "x2 = np.array([1,2,3]) # vetor com 3 elementos escalares\n",
    "x3 = np.array([[1],[2],[3]]) # matriz com 3 elementos vetores com elementos escalares\n",
    "x4 = np.array([[1,2,3],[1,2,3],[1,2,3]])\n",
    "x5 = np.array([[1],[2]])\n",
    "x6 = np.array([[2],[3]])\n",
    "x7 = np.array([[1,2,3],[1,2,3],[1,2,3]])\n",
    "\n"
   ]
  },
  {
   "cell_type": "code",
   "execution_count": 18,
   "id": "08535175",
   "metadata": {},
   "outputs": [
    {
     "data": {
      "text/plain": [
       "array([1, 2, 3])"
      ]
     },
     "execution_count": 18,
     "metadata": {},
     "output_type": "execute_result"
    }
   ],
   "source": [
    "x2"
   ]
  },
  {
   "cell_type": "code",
   "execution_count": 19,
   "id": "2aa57d88",
   "metadata": {},
   "outputs": [
    {
     "data": {
      "text/plain": [
       "array([[1],\n",
       "       [2],\n",
       "       [3]])"
      ]
     },
     "execution_count": 19,
     "metadata": {},
     "output_type": "execute_result"
    }
   ],
   "source": [
    "x3"
   ]
  },
  {
   "cell_type": "code",
   "execution_count": 22,
   "id": "ca09d13a",
   "metadata": {},
   "outputs": [
    {
     "data": {
      "text/plain": [
       "array([[1, 2, 3],\n",
       "       [1, 2, 3],\n",
       "       [1, 2, 3]])"
      ]
     },
     "execution_count": 22,
     "metadata": {},
     "output_type": "execute_result"
    }
   ],
   "source": [
    "x4"
   ]
  },
  {
   "cell_type": "code",
   "execution_count": 24,
   "id": "0a53fc17",
   "metadata": {},
   "outputs": [
    {
     "data": {
      "text/plain": [
       "array([[1],\n",
       "       [2]])"
      ]
     },
     "execution_count": 24,
     "metadata": {},
     "output_type": "execute_result"
    }
   ],
   "source": [
    "x5"
   ]
  },
  {
   "cell_type": "markdown",
   "id": "d6cc2f7e",
   "metadata": {},
   "source": [
    "# Soma e Subtração\n",
    "\n",
    "* Faz uma distributiva na hora de somar\n",
    "* Caso onde a dimensão é diferente, a combinação linear predomina\n",
    "* Precisamos de dimensões iguais entre os arrays"
   ]
  },
  {
   "cell_type": "code",
   "execution_count": 20,
   "id": "eccc9c32",
   "metadata": {},
   "outputs": [
    {
     "data": {
      "text/plain": [
       "array([[2, 3, 4],\n",
       "       [3, 4, 5],\n",
       "       [4, 5, 6]])"
      ]
     },
     "execution_count": 20,
     "metadata": {},
     "output_type": "execute_result"
    }
   ],
   "source": [
    "\n",
    "x2 + x3"
   ]
  },
  {
   "cell_type": "code",
   "execution_count": 21,
   "id": "cab7a3ad",
   "metadata": {},
   "outputs": [
    {
     "data": {
      "text/plain": [
       "array([[2, 3, 4],\n",
       "       [3, 4, 5],\n",
       "       [4, 5, 6]])"
      ]
     },
     "execution_count": 21,
     "metadata": {},
     "output_type": "execute_result"
    }
   ],
   "source": [
    "x3 + x4"
   ]
  },
  {
   "cell_type": "code",
   "execution_count": 25,
   "id": "02a0eb90",
   "metadata": {},
   "outputs": [
    {
     "ename": "ValueError",
     "evalue": "operands could not be broadcast together with shapes (2,1) (3,3) ",
     "output_type": "error",
     "traceback": [
      "\u001b[0;31m---------------------------------------------------------------------------\u001b[0m",
      "\u001b[0;31mValueError\u001b[0m                                Traceback (most recent call last)",
      "\u001b[0;32m/tmp/ipykernel_28535/3693913537.py\u001b[0m in \u001b[0;36m<module>\u001b[0;34m\u001b[0m\n\u001b[0;32m----> 1\u001b[0;31m \u001b[0mx5\u001b[0m \u001b[0;34m+\u001b[0m \u001b[0mx4\u001b[0m\u001b[0;34m\u001b[0m\u001b[0;34m\u001b[0m\u001b[0m\n\u001b[0m",
      "\u001b[0;31mValueError\u001b[0m: operands could not be broadcast together with shapes (2,1) (3,3) "
     ]
    }
   ],
   "source": [
    "# Erro, pois temos dimensões diferentes --> (2,1) (3,3) \n",
    "x5 + x4  "
   ]
  },
  {
   "cell_type": "markdown",
   "id": "c960bb4a",
   "metadata": {},
   "source": [
    "# Multiplicação\n",
    "\n",
    "Regra primordial na multiplicação:\n",
    "* Se tenho arr1(x,y) e arr2(z,w) \n",
    "    * Multiplicação só pode ocorrer quando y == z, ou seja, o numero de colunas do arr1 deve ser igual ao número de\n",
    "    linhas do arr2\n",
    "    * Caso a linha acima seja verdadeira, o resultado será: arr3(x,w)\n",
    "* Podemos usar para multiplicar:\n",
    "    * np.dot(arr1, arr2)\n",
    "    * ou, arr1@arr2\n",
    "* Se A e B:\n",
    "    * A . B != B . A, exceto se as dimensões forem preservadas"
   ]
  },
  {
   "cell_type": "code",
   "execution_count": 26,
   "id": "eda63940",
   "metadata": {},
   "outputs": [
    {
     "data": {
      "text/plain": [
       "array([[1],\n",
       "       [2],\n",
       "       [3]])"
      ]
     },
     "execution_count": 26,
     "metadata": {},
     "output_type": "execute_result"
    }
   ],
   "source": [
    "x3"
   ]
  },
  {
   "cell_type": "code",
   "execution_count": 27,
   "id": "f32541db",
   "metadata": {},
   "outputs": [
    {
     "data": {
      "text/plain": [
       "array([[1, 2, 3],\n",
       "       [1, 2, 3],\n",
       "       [1, 2, 3]])"
      ]
     },
     "execution_count": 27,
     "metadata": {},
     "output_type": "execute_result"
    }
   ],
   "source": [
    "x4"
   ]
  },
  {
   "cell_type": "code",
   "execution_count": 32,
   "id": "7a609793",
   "metadata": {},
   "outputs": [
    {
     "ename": "ValueError",
     "evalue": "matmul: Input operand 1 has a mismatch in its core dimension 0, with gufunc signature (n?,k),(k,m?)->(n?,m?) (size 3 is different from 1)",
     "output_type": "error",
     "traceback": [
      "\u001b[0;31m---------------------------------------------------------------------------\u001b[0m",
      "\u001b[0;31mValueError\u001b[0m                                Traceback (most recent call last)",
      "\u001b[0;32m/tmp/ipykernel_28535/21264114.py\u001b[0m in \u001b[0;36m<module>\u001b[0;34m\u001b[0m\n\u001b[1;32m      1\u001b[0m \u001b[0;31m# Erro: x3 tem 1 coluna, e x4 tem 3 linhas --> (size 3 is different from 1)\u001b[0m\u001b[0;34m\u001b[0m\u001b[0;34m\u001b[0m\u001b[0m\n\u001b[0;32m----> 2\u001b[0;31m \u001b[0mx3\u001b[0m\u001b[0;34m@\u001b[0m\u001b[0mx4\u001b[0m\u001b[0;34m\u001b[0m\u001b[0;34m\u001b[0m\u001b[0m\n\u001b[0m",
      "\u001b[0;31mValueError\u001b[0m: matmul: Input operand 1 has a mismatch in its core dimension 0, with gufunc signature (n?,k),(k,m?)->(n?,m?) (size 3 is different from 1)"
     ]
    }
   ],
   "source": [
    "# Erro: x3 tem 1 coluna, e x4 tem 3 linhas --> (size 3 is different from 1)\n",
    "# (3,1)(3,3)\n",
    "x3@x4"
   ]
  },
  {
   "cell_type": "code",
   "execution_count": 34,
   "id": "4ed83567",
   "metadata": {},
   "outputs": [
    {
     "data": {
      "text/plain": [
       "array([[14],\n",
       "       [14],\n",
       "       [14]])"
      ]
     },
     "execution_count": 34,
     "metadata": {},
     "output_type": "execute_result"
    }
   ],
   "source": [
    "# Ok: x4 tem 3 colunas, e x3 tem 3 linhas\n",
    "# (3,3)(3,1)\n",
    "# x4@x3"
   ]
  },
  {
   "cell_type": "code",
   "execution_count": 46,
   "id": "cb1e2566",
   "metadata": {},
   "outputs": [
    {
     "name": "stdout",
     "output_type": "stream",
     "text": [
      "6\n",
      "6\n"
     ]
    }
   ],
   "source": [
    "# Multiplicação entre escalar segue a mesma regra. Mas por que posso multiplicar invertendo os fatores?\n",
    "# Funciona porque o escalar tem dimensão igual a zero, ou seja, são dimensões iguais\n",
    "\n",
    "print(x * x1)\n",
    "print(x1 * x)"
   ]
  },
  {
   "cell_type": "code",
   "execution_count": 55,
   "id": "e2b426ce",
   "metadata": {},
   "outputs": [
    {
     "name": "stdout",
     "output_type": "stream",
     "text": [
      "x4 [[1 2 3]\n",
      " [1 2 3]\n",
      " [1 2 3]]\n",
      "\n",
      "x7 [[1 2 3]\n",
      " [1 2 3]\n",
      " [1 2 3]]\n",
      "\n",
      "[[1 4 9]\n",
      " [1 4 9]\n",
      " [1 4 9]]\n",
      "\n",
      "[[1 4 9]\n",
      " [1 4 9]\n",
      " [1 4 9]]\n"
     ]
    }
   ],
   "source": [
    "# multiplicar arrays de mesma dimensão também podemos inveter os fatores\n",
    "print('x4', x4)\n",
    "print()\n",
    "print('x7', x7)\n",
    "print()\n",
    "print(x4 * x7)\n",
    "print()\n",
    "print(x7 * x4)"
   ]
  },
  {
   "cell_type": "markdown",
   "id": "09ef7946",
   "metadata": {},
   "source": [
    "# Divisão"
   ]
  },
  {
   "cell_type": "code",
   "execution_count": 56,
   "id": "1593fec1",
   "metadata": {},
   "outputs": [
    {
     "data": {
      "text/plain": [
       "array([[1.        , 2.        , 3.        ],\n",
       "       [0.5       , 1.        , 1.5       ],\n",
       "       [0.33333333, 0.66666667, 1.        ]])"
      ]
     },
     "execution_count": 56,
     "metadata": {},
     "output_type": "execute_result"
    }
   ],
   "source": [
    "x4 / x3"
   ]
  },
  {
   "cell_type": "code",
   "execution_count": 57,
   "id": "5d6f99bd",
   "metadata": {},
   "outputs": [
    {
     "data": {
      "text/plain": [
       "array([[1.        , 0.5       , 0.33333333],\n",
       "       [2.        , 1.        , 0.66666667],\n",
       "       [3.        , 1.5       , 1.        ]])"
      ]
     },
     "execution_count": 57,
     "metadata": {},
     "output_type": "execute_result"
    }
   ],
   "source": [
    "x3 / x4"
   ]
  },
  {
   "cell_type": "code",
   "execution_count": 59,
   "id": "b5f850eb",
   "metadata": {},
   "outputs": [
    {
     "ename": "ValueError",
     "evalue": "operands could not be broadcast together with shapes (2,1) (3,1) ",
     "output_type": "error",
     "traceback": [
      "\u001b[0;31m---------------------------------------------------------------------------\u001b[0m",
      "\u001b[0;31mValueError\u001b[0m                                Traceback (most recent call last)",
      "\u001b[0;32m/tmp/ipykernel_28535/2893382294.py\u001b[0m in \u001b[0;36m<module>\u001b[0;34m\u001b[0m\n\u001b[0;32m----> 1\u001b[0;31m \u001b[0mx5\u001b[0m \u001b[0;34m/\u001b[0m \u001b[0mx3\u001b[0m\u001b[0;34m\u001b[0m\u001b[0;34m\u001b[0m\u001b[0m\n\u001b[0m\u001b[1;32m      2\u001b[0m \u001b[0mx3\u001b[0m \u001b[0;34m/\u001b[0m \u001b[0mx5\u001b[0m\u001b[0;34m\u001b[0m\u001b[0;34m\u001b[0m\u001b[0m\n",
      "\u001b[0;31mValueError\u001b[0m: operands could not be broadcast together with shapes (2,1) (3,1) "
     ]
    }
   ],
   "source": [
    "# Erro: Dimensões diferentes --> (2,1) (3,1) \n",
    "\n",
    "x5 / x3\n",
    "x3 / x5"
   ]
  },
  {
   "cell_type": "code",
   "execution_count": null,
   "id": "1a40b695",
   "metadata": {},
   "outputs": [],
   "source": [
    "# A.X = Y -->  Equação fundamental da álgebra linear"
   ]
  }
 ],
 "metadata": {
  "kernelspec": {
   "display_name": "Python 3 (ipykernel)",
   "language": "python",
   "name": "python3"
  },
  "language_info": {
   "codemirror_mode": {
    "name": "ipython",
    "version": 3
   },
   "file_extension": ".py",
   "mimetype": "text/x-python",
   "name": "python",
   "nbconvert_exporter": "python",
   "pygments_lexer": "ipython3",
   "version": "3.9.13"
  }
 },
 "nbformat": 4,
 "nbformat_minor": 5
}
